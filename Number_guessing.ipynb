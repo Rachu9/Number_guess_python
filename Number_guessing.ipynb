{
  "nbformat": 4,
  "nbformat_minor": 0,
  "metadata": {
    "colab": {
      "provenance": []
    },
    "kernelspec": {
      "name": "python3",
      "display_name": "Python 3"
    },
    "language_info": {
      "name": "python"
    }
  },
  "cells": [
    {
      "cell_type": "markdown",
      "source": [
        "Number Guessing using python\n"
      ],
      "metadata": {
        "id": "T1aLcPKZlMKG"
      }
    },
    {
      "cell_type": "code",
      "source": [
        "secret_number=9\n",
        "guess_count=0\n",
        "while guess_count<3:\n",
        "  guess=int(input(\"Enter the number\"))\n",
        "  guess_count+=1\n",
        "  if guess==secret_number:\n",
        "    print(\"You won\")\n",
        "    break\n",
        "else:\n",
        "  print(\"Sorry! You lost\")"
      ],
      "metadata": {
        "colab": {
          "base_uri": "https://localhost:8080/"
        },
        "id": "z8gN8ubnlR5K",
        "outputId": "e26a0d7f-1a15-458e-ae26-3d6a63c388dd"
      },
      "execution_count": 6,
      "outputs": [
        {
          "output_type": "stream",
          "name": "stdout",
          "text": [
            "Enter the number1\n",
            "Enter the number3\n",
            "Enter the number9\n",
            "You won\n"
          ]
        }
      ]
    }
  ]
}